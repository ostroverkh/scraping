{
 "cells": [
  {
   "cell_type": "code",
   "execution_count": 5,
   "metadata": {},
   "outputs": [
    {
     "name": "stdout",
     "output_type": "stream",
     "text": [
      "elseexceptfinally"
     ]
    }
   ],
   "source": [
    "from bs4 import BeautifulSoup\n",
    "import requests\n",
    "\n",
    "#Читаем страницу\n",
    "url = \"https://stepik.org/media/attachments/lesson/209719/2.html\"\n",
    "page = requests.get(url)\n",
    "\n",
    "#парсим тег\n",
    "soup = BeautifulSoup(page.text, \"html.parser\")\n",
    "tags = soup.findAll('code')\n",
    "\n",
    "#создаем словарь: ключ - содержимое тега, значение - количество повторений\n",
    "dd={}\n",
    "\n",
    "for x in tags:\n",
    "    if x.text not in dd.keys():\n",
    "        dd[x.text]=1\n",
    "    else:\n",
    "        dd[x.text]+=1\n",
    "\n",
    "#максимум количества повторений\n",
    "zmax=max(dd.values())\n",
    "\n",
    "#вывод строк с максимальным количеством повторений\n",
    "for k in dd.keys():\n",
    "    if dd[k]==zmax:\n",
    "        print(k, end=\" \")"
   ]
  },
  {
   "cell_type": "code",
   "execution_count": null,
   "metadata": {},
   "outputs": [],
   "source": []
  }
 ],
 "metadata": {
  "kernelspec": {
   "display_name": "Python 3",
   "language": "python",
   "name": "python3"
  },
  "language_info": {
   "codemirror_mode": {
    "name": "ipython",
    "version": 3
   },
   "file_extension": ".py",
   "mimetype": "text/x-python",
   "name": "python",
   "nbconvert_exporter": "python",
   "pygments_lexer": "ipython3",
   "version": "3.7.7"
  }
 },
 "nbformat": 4,
 "nbformat_minor": 4
}
